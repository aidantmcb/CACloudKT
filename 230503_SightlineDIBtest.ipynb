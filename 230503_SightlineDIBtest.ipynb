{
 "cells": [
  {
   "cell_type": "code",
   "execution_count": null,
   "metadata": {},
   "outputs": [],
   "source": [
    "import numpy as np\n",
    "\n",
    "import astropy.units as u  \n",
    "import astropy.constants as c\n",
    "from astropy.coordinates import SkyCoord, Galactic, CartesianRepresentation\n",
    "\n",
    "import matplotlib.pyplot as plt\n",
    "import matplotlib \n",
    "\n",
    "from itertools import product\n",
    "\n",
    "from astropy.io import fits\n",
    "from astropy.table import Table, join\n",
    "\n",
    "import sys\n",
    "import os\n",
    "import tqdm\n",
    "\n",
    "bayestar_path = '/uufs/astro.utah.edu/common/home/u1371365/dustmaps_data/bayestar/bayestar2019.h5'\n",
    "from dustmaps.bayestar import BayestarQuery\n",
    "\n",
    "### NEW 03-20: implement the 10pc resolution Vergely map into dustmaps ###\n",
    "from dustmaps.vergely2022 import Vergely2022Query\n",
    "\n",
    "import h5py\n",
    "\n",
    "import emcee\n",
    "import corner"
   ]
  },
  {
   "cell_type": "code",
   "execution_count": null,
   "metadata": {},
   "outputs": [],
   "source": [
    "distance = np.linspace(0, 1000, 200)\n",
    "\n",
    "\n",
    "l0, b0 = (163., -8.0)\n",
    "l_ = np.linspace(l0 - 9., l0 + 9., 200)\n",
    "b_ = np.linspace(b0 - 9., b0 + 9., 200)\n",
    "l, b, d = np.meshgrid(l_, b_, distance)\n",
    "print(l.shape)\n",
    "\n",
    "coords = SkyCoord(l*u.deg, b*u.deg,\n",
    "                  distance=distance*u.pc, frame='galactic')"
   ]
  },
  {
   "cell_type": "code",
   "execution_count": null,
   "metadata": {},
   "outputs": [],
   "source": [
    "A0Coeff = 1.052180128669157 # from 02-03dustmap_explore.ipynb, calculated via dustapprox\n",
    "\n",
    "vergelyquery = Vergely2022Query(map_fname = \n",
    "                                '/uufs/astro.utah.edu/common/home/u1371365/dustmaps_data/vergely2022/vergely22_extinction_density_resol_010pc.h5')\n",
    "vergely = vergelyquery(coords) * A0Coeff\n",
    "\n",
    "fig, ax = plt.subplots(figsize = (6,6))\n",
    "ax.imshow(np.sum(vergely * 5, axis = 2), origin = 'lower', cmap = 'binary', extent = (l0-9, l0+9, b0-9, b0+9))\n",
    "ax.set_xlabel('l (deg)')\n",
    "ax.set_ylabel('b (deg)')\n",
    "plt.show()"
   ]
  },
  {
   "cell_type": "code",
   "execution_count": null,
   "metadata": {},
   "outputs": [],
   "source": [
    "lambda0 = 15272.42 \n",
    "sigma0 = 1.2\n",
    "\n",
    "def get_wavs(hdulist = None, rv = 0):\n",
    "    if hdulist is None:\n",
    "        CRVAL1 = 4.179\n",
    "        CDELT1 = 6e-06\n",
    "        LEN = 8575\n",
    "    else:\n",
    "        header = hdulist[1].header\n",
    "        CRVAL1 = header['CRVAL1']\n",
    "        CDELT1 = header['CDELT1']\n",
    "        LEN = header['NAXIS1']\n",
    "        \n",
    "    wavs = np.power(10, CRVAL1 + CDELT1 * np.arange(LEN))\n",
    "    wavs = wavs * (1 + rv / 3e5) # allows for shifting to observed frame from rest frame\n",
    "    return wavs\n",
    "\n",
    "wavs = get_wavs()\n",
    "window = (wavs > lambda0 -10) & (wavs < lambda0 + 10)\n",
    "wavs_window = wavs[window]\n",
    "window_mask = (wavs_window < lambda0) - 5 | (wavs_window > lambda0 + 5)\n",
    "\n",
    "def dopplershift(v, lambda0 = lambda0):\n",
    "     return (lambda0 * u.Angstrom * (c.c + v * u.km / u.s) / c.c).to(u.Angstrom).value"
   ]
  },
  {
   "cell_type": "code",
   "execution_count": null,
   "metadata": {},
   "outputs": [],
   "source": [
    "CA_meta = Table(fits.open('../Data/230420_CAResiduals/CA_meta.fits')[1].data)\n",
    "CAresdir = '../Data/230420_CAResiduals/'\n",
    "starhorsepath = '/uufs/chpc.utah.edu/common/home/sdss/dr17/env/APOGEE_STARHORSE/APOGEE_DR17_EDR3_STARHORSE_v2.fits'\n",
    "starhorse = Table.read(starhorsepath, hdu = 1)\n",
    "starhorse = starhorse['APOGEE_ID', 'dist16', 'dist50', 'dist84', 'AV16', 'AV50', 'AV84']\n",
    "\n",
    "CA_meta = join(CA_meta, starhorse, keys = 'APOGEE_ID', join_type = 'left')"
   ]
  },
  {
   "cell_type": "code",
   "execution_count": null,
   "metadata": {},
   "outputs": [],
   "source": [
    "def get_ca_res(fname):\n",
    "    return str(CAresdir + str(fname))\n",
    "\n",
    "for i in range(100):\n",
    "    asdf = get_ca_res(CA_meta[i]['FILE'])\n",
    "    try:\n",
    "        fits.open(asdf)\n",
    "    except:\n",
    "        print('file doesnt exist')\n",
    "\n",
    "def select_stars(tab, l0, b0, radius = 1):\n",
    "    cond = np.sqrt((tab['GLON'] - l0)**2 + (tab['GLAT'] - b0)**2) < radius\n",
    "    return np.where(cond)[0]"
   ]
  },
  {
   "cell_type": "code",
   "execution_count": null,
   "metadata": {},
   "outputs": [],
   "source": [
    "def find_nearest(ll, bb):\n",
    "    l_sel = l_\n",
    "    b_sel = b_\n",
    "\n",
    "    return np.argmin(np.abs(l_sel - ll)), np.argmin(np.abs(b_sel - bb))\n",
    "\n",
    "def find_nearest_dist(d):\n",
    "    return np.argmin(np.abs(distance[:, np.newaxis] - d), axis = 0)\n",
    "\n",
    "\n",
    "def dAV_dd(l0, b0, bin_edges):\n",
    "    l_ind, b_ind = find_nearest(l0, b0)\n",
    "    sightline = np.copy(vergely[b_ind, l_ind, :])\n",
    "\n",
    "    d_min, d_max = bin_edges\n",
    "\n",
    "    extinction = sightline[(distance > d_min) & (distance < d_max)]\n",
    "    return np.sum(extinction )\n",
    "\n",
    "def dAV_dd_star(l0, b0, bin_edges, distances):\n",
    "    l_ind, b_ind = find_nearest(l0, b0)\n",
    "    d_min, d_max = bin_edges\n",
    "    sightline = np.copy(vergely[b_ind, l_ind, :])\n",
    "    sightline[(distance < d_min) | (distance > d_max)] = 0\n",
    "    sightline_av = (np.cumsum(sightline)) \n",
    "    d_ind = find_nearest_dist(distances)\n",
    "\n",
    "    return np.nanmedian(sightline_av[d_ind])\n",
    "\n",
    "# dAV_dd_star(l0, b0, (300, 480), CA_meta[sel1]['DIST'])\n",
    "\n",
    "\n",
    "def Differential_Amplitude(dAv_dd, dd):\n",
    "     return  0.024 * dAv_dd * dd  # 1/(np.sqrt(2 * np.pi) * sigma0) * 102e-3 * dAv_dd * dd"
   ]
  },
  {
   "cell_type": "code",
   "execution_count": null,
   "metadata": {},
   "outputs": [],
   "source": [
    "DIB_spectra = np.zeros((len(CA_meta), len(wavs_window)))\n",
    "DIB_errs = np.zeros((len(CA_meta), len(wavs_window)))\n",
    "\n",
    "\n",
    "for i, star in enumerate(CA_meta):\n",
    "    res_hdul = fits.open(get_ca_res(star['FILE']))\n",
    "    DIB_spectra[i, :] = res_hdul[1].data[window]\n",
    "    DIB_errs[i, :] = res_hdul[2].data[window]\n"
   ]
  }
 ],
 "metadata": {
  "kernelspec": {
   "display_name": "Python 3",
   "language": "python",
   "name": "python3"
  },
  "language_info": {
   "codemirror_mode": {
    "name": "ipython",
    "version": 3
   },
   "file_extension": ".py",
   "mimetype": "text/x-python",
   "name": "python",
   "nbconvert_exporter": "python",
   "pygments_lexer": "ipython3",
   "version": "3.10.3"
  },
  "orig_nbformat": 4
 },
 "nbformat": 4,
 "nbformat_minor": 2
}

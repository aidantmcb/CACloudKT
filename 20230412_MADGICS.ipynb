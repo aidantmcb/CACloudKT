{
 "cells": [
  {
   "cell_type": "code",
   "execution_count": 1,
   "metadata": {},
   "outputs": [],
   "source": [
    "import numpy as np\n",
    "import matplotlib.pyplot as plt\n",
    "\n",
    "import h5py"
   ]
  },
  {
   "cell_type": "code",
   "execution_count": 11,
   "metadata": {},
   "outputs": [
    {
     "data": {
      "text/plain": [
       "<KeysViewHDF5 ['DIB_flag_15273', 'DIB_hess_var_15273', 'DIB_minchi2_final_15273', 'DIB_p5delchi2_lvl1_15273', 'DIB_p5delchi2_lvl2_15273', 'DIB_p5delchi2_lvl3_15273', 'DIB_pixoff_final_15273', 'DIB_sigval_final_15273', 'DIBchi2_residuals_15273', 'EW_dib_15273', 'EW_dib_err_15273', 'RV_flag', 'RV_minchi2_final', 'RV_p5delchi2_lvl1', 'RV_p5delchi2_lvl2', 'RV_p5delchi2_lvl3', 'RV_pix_var', 'RV_pixoff_final', 'RVchi2_residuals', 'adjfiberindx', 'data_pix_cnt', 'detect_msk', 'hdr', 'map2visit_1indx', 'tot_p5chi2_v0', 'tot_p5chi2_v1_15273', 'x_dib_v1_15273', 'x_residuals_v0', 'x_residuals_v1_15273', 'x_residuals_z_v0', 'x_residuals_z_v1_15273', 'x_skyContinuum_v0', 'x_skyContinuum_v1_15273', 'x_skyLines_v0', 'x_skyLines_v1_15273', 'x_starContinuum_v0', 'x_starContinuum_v1_15273', 'x_starLines_err_v0', 'x_starLines_v0', 'x_starLines_v1_15273']>"
      ]
     },
     "execution_count": 11,
     "metadata": {},
     "output_type": "execute_result"
    }
   ],
   "source": [
    "fname = '/uufs/chpc.utah.edu/common/home/u6039752/scratch/working/2023_04_10/cali_subset/apMADGICS_out_cali.h5'\n",
    "file = h5py.File(fname)\n",
    "file.keys()"
   ]
  }
 ],
 "metadata": {
  "kernelspec": {
   "display_name": "Python 3",
   "language": "python",
   "name": "python3"
  },
  "language_info": {
   "codemirror_mode": {
    "name": "ipython",
    "version": 3
   },
   "file_extension": ".py",
   "mimetype": "text/x-python",
   "name": "python",
   "nbconvert_exporter": "python",
   "pygments_lexer": "ipython3",
   "version": "3.10.3"
  },
  "orig_nbformat": 4
 },
 "nbformat": 4,
 "nbformat_minor": 2
}

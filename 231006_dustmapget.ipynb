{
 "cells": [
  {
   "cell_type": "code",
   "execution_count": 1,
   "metadata": {},
   "outputs": [],
   "source": [
    "from dustmaps.edenhofer2023 import Edenhofer2023Query\n",
    "import numpy as np \n",
    "from astropy.io import fits\n",
    "from astropy.wcs import WCS \n",
    "from astropy.coordinates import SkyCoord\n",
    "import astropy.units as u"
   ]
  },
  {
   "cell_type": "code",
   "execution_count": 25,
   "metadata": {},
   "outputs": [],
   "source": [
    "if True:\n",
    "    cloud = 'california'\n",
    "\n",
    "    l_min, l_max = 154, 172 # longitude bounds, in deg\n",
    "    b_min, b_max = -17, 1 # latitude bounds, in deg\n",
    "    d_min, d_max = 70, 1250  #distance bounds, in pc\n",
    "\n",
    "    delta_l = 0.1 # pixel scale in longitude, in deg\n",
    "    delta_b = 0.1 # pixel scale in latitude, in deg\n",
    "    delta_d = 1 # #pixel scale in distance, in pc\n",
    "\n",
    "    l = np.arange(l_min, l_max - 0.11, delta_l)\n",
    "    b = np.arange(b_min, b_max, delta_b)\n",
    "    d = np.arange(d_min,d_max + 1, delta_d)\n",
    "\n",
    "    lmesh,bmesh,dmesh = np.meshgrid(l,b,d)\n",
    "\n",
    "    # coords = SkyCoord(l=lmesh*u.deg, b=bmesh*u.deg, distance=dmesh*u.pc,frame='galactic')\n",
    "\n",
    "    # edenhofer = Edenhofer2023Query()\n",
    "    # out=edenhofer(coords)\n",
    "    # out=np.fliplr(out)\n",
    "    # out=np.transpose(out,axes=(2,0,1))\n",
    "\n",
    "    # hdu = fits.PrimaryHDU(out)\n",
    "    # hdu.header['CTYPE1']='GLON'\n",
    "    # hdu.header['CTYPE2']='GLAT'\n",
    "    # hdu.header['CTYPE3']='DISTANCE'\n",
    "    # hdu.header['CRVAl1']=l_max\n",
    "    # hdu.header['CRVAL2']=b_min\n",
    "    # hdu.header['CRVAl3']=d_min\n",
    "    # hdu.header['CRPIX1']=1\n",
    "    # hdu.header['CRPIX2']=1\n",
    "    # hdu.header['CRPIX3']=1\n",
    "    # hdu.header['CDELT1']=delta_l*-1\n",
    "    # hdu.header['CDELT2']=delta_b\n",
    "    # hdu.header['CDELT3']=delta_d\n",
    "\n",
    "    # hdu.writeto('{}_lbd_3D_dust_edenhofer.fits'.format(cloud),overwrite=True)"
   ]
  },
  {
   "cell_type": "code",
   "execution_count": 26,
   "metadata": {},
   "outputs": [
    {
     "data": {
      "text/plain": [
       "(180, 179, 1181)"
      ]
     },
     "execution_count": 26,
     "metadata": {},
     "output_type": "execute_result"
    }
   ],
   "source": [
    "lmesh.shape\n"
   ]
  },
  {
   "cell_type": "code",
   "execution_count": 10,
   "metadata": {},
   "outputs": [
    {
     "data": {
      "text/plain": [
       "-378.7992255263576"
      ]
     },
     "execution_count": 10,
     "metadata": {},
     "output_type": "execute_result"
    }
   ],
   "source": [
    "center = SkyCoord(163 * u.deg, -8 * u.deg, distance = 400 * u.pc, frame = 'galactic')\n",
    "center.represent_as('cartesian').x.value"
   ]
  },
  {
   "cell_type": "code",
   "execution_count": 27,
   "metadata": {},
   "outputs": [
    {
     "name": "stderr",
     "output_type": "stream",
     "text": [
      "Optimizing map for querying (this might take a couple of seconds)...\n"
     ]
    }
   ],
   "source": [
    "if True:\n",
    "    cloud = 'california'\n",
    "\n",
    "    x0, y0, z0 = (center.represent_as('cartesian').x.value, center.represent_as('cartesian').y.value, center.represent_as('cartesian').z.value)\n",
    "\n",
    "    boxhalf = 300\n",
    "    x_min, x_max = (x0 - boxhalf, x0 + boxhalf-1)\n",
    "    y_min, y_max = (y0 - boxhalf, y0 + boxhalf)\n",
    "    z_min, z_max = (z0 - boxhalf, z0 + boxhalf+1)\n",
    "\n",
    "    # l_min, l_max = 154, 172 # longitude bounds, in deg\n",
    "    # b_min, b_max = -17, 1 # latitude bounds, in deg\n",
    "    # d_min, d_max = 70, 1250  #distance bounds, in pc\n",
    "\n",
    "    delta_x, delta_y, delta_z = (1,1,1)\n",
    "\n",
    "    x = np.arange(x_min, x_max, delta_x)\n",
    "    y = np.arange(y_min, y_max, delta_y)\n",
    "    z = np.arange(z_min, z_max, delta_z)\n",
    "\n",
    "    xmesh,ymesh,zmesh = np.meshgrid(x, y, z)\n",
    "\n",
    "    coords = SkyCoord(xmesh*u.pc, ymesh*u.pc, z*u.pc,frame='galactic', representation_type = 'cartesian')\n",
    "    coords = SkyCoord(coords.represent_as('spherical'), frame = 'galactic')\n",
    "\n",
    "    edenhofer = Edenhofer2023Query()\n",
    "    out=edenhofer(coords)\n",
    "    # out=np.fliplr(out)\n",
    "    out=np.transpose(out,axes=(2,0,1))\n",
    "\n",
    "    hdu = fits.PrimaryHDU(out)\n",
    "    hdu.header['CTYPE1']='X'\n",
    "    hdu.header['CTYPE2']='Y'\n",
    "    hdu.header['CTYPE3']='Z'\n",
    "    hdu.header['CRVAl1']=x_min\n",
    "    hdu.header['CRVAL2']=y_min\n",
    "    hdu.header['CRVAl3']=z_min\n",
    "    hdu.header['CRPIX1']=1\n",
    "    hdu.header['CRPIX2']=1\n",
    "    hdu.header['CRPIX3']=1\n",
    "    hdu.header['CDELT1']=delta_x\n",
    "    hdu.header['CDELT2']=delta_y\n",
    "    hdu.header['CDELT3']=delta_z\n",
    "\n",
    "    hdu.writeto('{}_xyz_3D_dust_edenhofer.fits'.format(cloud),overwrite=True)"
   ]
  },
  {
   "cell_type": "code",
   "execution_count": 16,
   "metadata": {},
   "outputs": [
    {
     "data": {
      "text/plain": [
       "(600, 599, 601)"
      ]
     },
     "execution_count": 16,
     "metadata": {},
     "output_type": "execute_result"
    }
   ],
   "source": [
    "xmesh.shape"
   ]
  },
  {
   "cell_type": "code",
   "execution_count": 14,
   "metadata": {},
   "outputs": [
    {
     "ename": "NameError",
     "evalue": "name 'coords' is not defined",
     "output_type": "error",
     "traceback": [
      "\u001b[0;31m---------------------------------------------------------------------------\u001b[0m",
      "\u001b[0;31mNameError\u001b[0m                                 Traceback (most recent call last)",
      "\u001b[0;32m/tmp/ipykernel_1242071/2397459954.py\u001b[0m in \u001b[0;36m<cell line: 1>\u001b[0;34m()\u001b[0m\n\u001b[0;32m----> 1\u001b[0;31m \u001b[0mcoords_new\u001b[0m \u001b[0;34m=\u001b[0m \u001b[0mcoords\u001b[0m\u001b[0;34m.\u001b[0m\u001b[0mrepresent_as\u001b[0m\u001b[0;34m(\u001b[0m\u001b[0;34m'spherical'\u001b[0m\u001b[0;34m)\u001b[0m\u001b[0;34m\u001b[0m\u001b[0;34m\u001b[0m\u001b[0m\n\u001b[0m",
      "\u001b[0;31mNameError\u001b[0m: name 'coords' is not defined"
     ]
    }
   ],
   "source": [
    "coords_new = coords.represent_as('spherical')"
   ]
  },
  {
   "cell_type": "code",
   "execution_count": 15,
   "metadata": {},
   "outputs": [
    {
     "ename": "NameError",
     "evalue": "name 'coords_new' is not defined",
     "output_type": "error",
     "traceback": [
      "\u001b[0;31m---------------------------------------------------------------------------\u001b[0m",
      "\u001b[0;31mNameError\u001b[0m                                 Traceback (most recent call last)",
      "\u001b[0;32m/tmp/ipykernel_1242071/4098548206.py\u001b[0m in \u001b[0;36m<cell line: 1>\u001b[0;34m()\u001b[0m\n\u001b[0;32m----> 1\u001b[0;31m \u001b[0mSkyCoord\u001b[0m\u001b[0;34m(\u001b[0m\u001b[0mcoords_new\u001b[0m\u001b[0;34m,\u001b[0m \u001b[0mframe\u001b[0m \u001b[0;34m=\u001b[0m \u001b[0;34m'galactic'\u001b[0m\u001b[0;34m)\u001b[0m\u001b[0;34m\u001b[0m\u001b[0;34m\u001b[0m\u001b[0m\n\u001b[0m",
      "\u001b[0;31mNameError\u001b[0m: name 'coords_new' is not defined"
     ]
    }
   ],
   "source": [
    "SkyCoord(coords_new, frame = 'galactic')"
   ]
  }
 ],
 "metadata": {
  "kernelspec": {
   "display_name": "Python 3",
   "language": "python",
   "name": "python3"
  },
  "language_info": {
   "codemirror_mode": {
    "name": "ipython",
    "version": 3
   },
   "file_extension": ".py",
   "mimetype": "text/x-python",
   "name": "python",
   "nbconvert_exporter": "python",
   "pygments_lexer": "ipython3",
   "version": "3.10.3"
  }
 },
 "nbformat": 4,
 "nbformat_minor": 2
}

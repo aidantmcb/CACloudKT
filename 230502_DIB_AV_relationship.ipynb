{
 "cells": [
  {
   "cell_type": "code",
   "execution_count": null,
   "metadata": {},
   "outputs": [],
   "source": [
    "import numpy as np\n",
    "\n",
    "import astropy.units as u  \n",
    "import astropy.constants as c\n",
    "from astropy.coordinates import SkyCoord\n",
    "\n",
    "import matplotlib.pyplot as plt\n",
    "import matplotlib \n",
    "\n",
    "from scipy.optimize import curve_fit\n",
    "\n",
    "from astropy.io import fits\n",
    "from astropy.table import Table, join\n",
    "\n",
    "bayestar_path = '/uufs/astro.utah.edu/common/home/u1371365/dustmaps_data/bayestar/bayestar2019.h5'\n",
    "from dustmaps.bayestar import BayestarQuery\n",
    "\n",
    "vergely_path = '/uufs/astro.utah.edu/common/home/u1371365/dustmaps_data/vergely2022/vergely22_extinction_density_resol_010pc.h5'\n",
    "from dustmaps.vergely2022 import Vergely2022Query"
   ]
  },
  {
   "cell_type": "code",
   "execution_count": null,
   "metadata": {},
   "outputs": [],
   "source": [
    "distance = np.linspace(0, 1000, 150)\n",
    "\n",
    "l0, b0 = (163., -8.0)\n",
    "l_ = np.linspace(l0 - 9., l0 + 9., 200)\n",
    "b_ = np.linspace(b0 - 9., b0 + 9., 250)\n",
    "l, b, d = np.meshgrid(l_, b_, distance, indexing = 'xy')\n",
    "\n",
    "coords = SkyCoord(l*u.deg, b*u.deg,\n",
    "                  distance=distance*u.pc, frame='galactic')"
   ]
  },
  {
   "cell_type": "code",
   "execution_count": null,
   "metadata": {},
   "outputs": [],
   "source": [
    "vergelyquery = Vergely2022Query(map_fname = vergely_path)\n",
    "vergely = vergelyquery(coords) * 1.052180128669157\n",
    "print(vergely.shape)"
   ]
  },
  {
   "cell_type": "code",
   "execution_count": null,
   "metadata": {},
   "outputs": [],
   "source": []
  },
  {
   "cell_type": "code",
   "execution_count": null,
   "metadata": {},
   "outputs": [],
   "source": [
    "CA_meta = Table(fits.open('../Data/230420_CAResiduals/CA_meta.fits')[1].data)\n",
    "CAresdir = '../Data/230420_CAResiduals/'\n",
    "starhorsepath = '/uufs/chpc.utah.edu/common/home/sdss/dr17/env/APOGEE_STARHORSE/APOGEE_DR17_EDR3_STARHORSE_v2.fits'\n",
    "starhorse = Table.read(starhorsepath, hdu = 1)\n",
    "starhorse = starhorse['APOGEE_ID', 'dist16', 'dist50', 'dist84', 'AV16', 'AV50', 'AV84']\n",
    "\n",
    "CA_meta = join(CA_meta, starhorse, keys = 'APOGEE_ID', join_type = 'left')"
   ]
  },
  {
   "cell_type": "code",
   "execution_count": null,
   "metadata": {},
   "outputs": [],
   "source": [
    "CA_meta['DIST'][CA_meta['DIST'] < 0] = 0\n",
    "verg_stars = np.zeros((len(CA_meta), len(distance)))\n",
    "for i, star in enumerate(CA_meta):\n",
    "    dinds = distance < star['DIST']\n",
    "\n",
    "    verg_star = vergelyquery(SkyCoord(star['GLON'] * u.deg, star['GLAT']*u.deg, \n",
    "                                    distance=distance[dinds]*u.pc, frame = 'galactic')) \n",
    "    verg_stars[i, dinds ] = verg_star * 1.052180128669157\n",
    "verg_reddening = np.sum(verg_stars, axis = 1) * 5"
   ]
  },
  {
   "cell_type": "code",
   "execution_count": null,
   "metadata": {},
   "outputs": [],
   "source": []
  },
  {
   "cell_type": "code",
   "execution_count": null,
   "metadata": {},
   "outputs": [],
   "source": [
    "lambda0 = 15272.42 \n",
    "sigma0 = 1.37\n",
    "\n",
    "def get_wavs(hdulist = None, rv = 0):\n",
    "    if hdulist is None:\n",
    "        CRVAL1 = 4.179\n",
    "        CDELT1 = 6e-06\n",
    "        LEN = 8575\n",
    "    else:\n",
    "        header = hdulist[1].header\n",
    "        CRVAL1 = header['CRVAL1']\n",
    "        CDELT1 = header['CDELT1']\n",
    "        LEN = header['NAXIS1']\n",
    "        \n",
    "    wavs = np.power(10, CRVAL1 + CDELT1 * np.arange(LEN))\n",
    "    wavs = wavs * (1 + rv / 3e5) # allows for shifting to observed frame from rest frame\n",
    "    return wavs\n",
    "\n",
    "wavs = get_wavs()\n",
    "window = (wavs > lambda0 -10) & (wavs < lambda0 + 10)\n",
    "wavs_window = wavs[window]\n",
    "window_mask = (wavs_window < lambda0) - 5 | (wavs_window > lambda0 + 5)\n",
    "\n",
    "def dopplershift(v, lambda0 = lambda0):\n",
    "     return (lambda0 * u.Angstrom * (c.c + v * u.km / u.s) / c.c).to(u.Angstrom).value"
   ]
  },
  {
   "cell_type": "code",
   "execution_count": null,
   "metadata": {},
   "outputs": [],
   "source": [
    "def get_ca_res(fname):\n",
    "    return str(CAresdir + str(fname))\n",
    "\n",
    "def select_stars(tab, l0, b0, radius = 1):\n",
    "    cond = np.sqrt((tab['GLON'] - l0)**2 + (tab['GLAT'] - b0)**2) < radius\n",
    "    return np.where(cond)[0]\n",
    "\n",
    "def find_nearest(ll, bb):\n",
    "    l_sel = l_\n",
    "    b_sel = b_\n",
    "\n",
    "    return np.argmin(np.abs(l_sel - ll)), np.argmin(np.abs(b_sel - bb))\n",
    "\n",
    "def find_nearest_dist(d):\n",
    "    return np.argmin(np.abs(distance[:, np.newaxis] - d), axis = 0)"
   ]
  },
  {
   "cell_type": "code",
   "execution_count": null,
   "metadata": {},
   "outputs": [],
   "source": [
    "res_array = np.zeros((len(CA_meta), len(wavs_window)))\n",
    "res_err_array = np.zeros(res_array.shape)\n",
    "dustmaps_inds = np.zeros((len(CA_meta), 3)).astype(int)\n",
    "\n",
    "for i in range(len(CA_meta)):\n",
    "    star = CA_meta[i]\n",
    "    try:\n",
    "        res_hdu = fits.open(get_ca_res(star['FILE']))\n",
    "        res_array[i, :] = res_hdu[1].data[window]\n",
    "        res_err_array[i, :] = res_hdu[2].data[window]\n",
    "    except:\n",
    "        res_array[i, :] = np.nan\n",
    "        res_err_array[i, :] = np.nan\n",
    "\n",
    "    try:\n",
    "        l_ind, b_ind = find_nearest(star['GLON'], star['GLAT'])\n",
    "        d_ind = find_nearest_dist(star['DIST'])\n",
    "        dustmaps_inds[i, :] = np.array((l_ind, b_ind, d_ind)) #remember that the two indices switch\n",
    "    except:\n",
    "        dustmaps_inds[i, :] = 0"
   ]
  },
  {
   "cell_type": "code",
   "execution_count": null,
   "metadata": {},
   "outputs": [],
   "source": [
    "plt.imshow(res_array, origin = 'lower', aspect = .1, vmin = 0.95, vmax = 1)"
   ]
  },
  {
   "cell_type": "code",
   "execution_count": null,
   "metadata": {},
   "outputs": [],
   "source": [
    "def gaussian(x, x0, sigma, A):\n",
    "    return A * np.exp(-(x-x0)**2 / (2 * sigma**2))\n",
    "\n",
    "fit_params = np.zeros((len(CA_meta), 3))\n",
    "fit_errs = np.zeros((len(CA_meta), 3))\n",
    "for i in range(len(res_array)):\n",
    "    res = res_array[i, :]\n",
    "    res_mask = np.isnan(res_array[i, :])\n",
    "    res = np.ma.array(res, mask = res_mask)\n",
    "    res_err = np.ma.array(res_err_array[i, :], mask = res_mask)\n",
    "    wavs_fit = np.ma.array(wavs_window, mask = res_mask)\n",
    "\n",
    "    try:\n",
    "        outputs = curve_fit(gaussian, wavs_fit, 1-res, sigma = res_err, p0 = (lambda0, sigma0, 0.025), \n",
    "                            bounds = ((lambda0-5, 0.7, 0), (lambda0+5, 3.4, 0.1)), check_finite = False)\n",
    "        fit_params[i, :] = outputs[0]\n",
    "        fit_errs[i, :] = np.sqrt(np.diag(outputs[1]))\n",
    "    except:\n",
    "        fit_params[i, :] = np.nan\n",
    "        fit_errs[i, :] = np.nan\n",
    "    "
   ]
  },
  {
   "cell_type": "code",
   "execution_count": null,
   "metadata": {},
   "outputs": [],
   "source": [
    "eqw_interp = np.trapz(1-res_array, x = wavs_window[np.newaxis, :], axis = 1)\n",
    "eqw_interp_err = np.sqrt(np.sum(res_err_array**2, axis = 1) )"
   ]
  },
  {
   "cell_type": "code",
   "execution_count": null,
   "metadata": {},
   "outputs": [],
   "source": [
    "eqw_interp"
   ]
  },
  {
   "cell_type": "code",
   "execution_count": null,
   "metadata": {},
   "outputs": [],
   "source": [
    "eqw = np.sqrt(2 * np.pi) * fit_params[:, 2] * fit_params[:, 1]\n",
    "eqw_err = np.sqrt(fit_errs[:, 2]**2 + fit_errs[:, 1]**2)"
   ]
  },
  {
   "cell_type": "code",
   "execution_count": null,
   "metadata": {},
   "outputs": [],
   "source": [
    "fig, ax = plt.subplots()\n",
    "ax.scatter(CA_meta['AV50'], eqw, alpha = 0.3)\n",
    "ax.errorbar(CA_meta['AV50'], eqw, yerr = eqw_err, fmt='.', alpha = 0.3)\n",
    "ax.set_ylim(-0.1, 0.3)\n",
    "plt.show\n",
    "\n",
    "line = lambda x, m : m * x \n",
    "fig, ax = plt.subplots()\n",
    "ax.scatter(CA_meta['AV50'], eqw_interp, alpha = 0.3)\n",
    "ax.errorbar(CA_meta['AV50'], eqw_interp, yerr = eqw_interp_err, fmt='.', alpha = 0.3)\n",
    "ax.set_ylim(-0.1, 0.3)\n",
    "\n",
    "eqw_interp_mask = (np.isnan(eqw_interp)  | np.isnan(eqw_interp_err) | np.isnan(CA_meta['AV50']) ) == False\n",
    "eqw_interp_fit = eqw_interp[eqw_interp_mask]\n",
    "eqw_err_fit = eqw_interp_err[eqw_interp_mask]\n",
    "av_fit = CA_meta['AV50'].data[eqw_interp_mask]\n",
    "line_fit = curve_fit(line, av_fit, eqw_interp_fit, sigma = eqw_err_fit, check_finite = True,\n",
    "                     p0 = (0.2), bounds = ((0), (5)))\n",
    "ax.plot([0, 3], [0, 3 * line_fit[0][0]])\n",
    "ax.set_xlabel('StarHorse A(V)')\n",
    "ax.set_ylabel('DIB EqW ($\\AA$)')\n",
    "\n",
    "plt.show()\n",
    "\n",
    "# ax.set_xlim(200, 800)"
   ]
  },
  {
   "cell_type": "code",
   "execution_count": null,
   "metadata": {},
   "outputs": [],
   "source": [
    "np.nanmedian(fit_params[:, 1])"
   ]
  },
  {
   "cell_type": "code",
   "execution_count": null,
   "metadata": {},
   "outputs": [],
   "source": [
    "plt.hist(fit_params[:, 1], bins = 30)"
   ]
  },
  {
   "cell_type": "code",
   "execution_count": null,
   "metadata": {},
   "outputs": [],
   "source": [
    "line_fit[0][0] / (np.sqrt(2 * np.pi) * np.nanmedian(fit_params[:, 1])) "
   ]
  },
  {
   "cell_type": "code",
   "execution_count": null,
   "metadata": {},
   "outputs": [],
   "source": [
    "np.sqrt(np.diag(line_fit[1]))"
   ]
  },
  {
   "cell_type": "code",
   "execution_count": null,
   "metadata": {},
   "outputs": [],
   "source": [
    "fig, ax = plt.subplots()\n",
    "ax.scatter(eqw, eqw_interp, alpha = 0.5)\n",
    "ax.plot([0, 0.4], [0, 0.4])\n",
    "ax.set_xlim(0, 0.4)\n",
    "ax.set_ylim(0, 0.4)\n",
    "plt.show()"
   ]
  },
  {
   "cell_type": "code",
   "execution_count": null,
   "metadata": {},
   "outputs": [],
   "source": [
    "def select_stars(tab, l0, b0, radius = .2):\n",
    "    cond = np.sqrt((tab['GLON'] - l0)**2 + (tab['GLAT'] - b0)**2) < radius\n",
    "    return np.where(cond)[0]"
   ]
  },
  {
   "cell_type": "code",
   "execution_count": null,
   "metadata": {},
   "outputs": [],
   "source": [
    "extent = (l0-9, l0+9, b0-9, b0+9)\n",
    "def plots(tab, l0, b0,):\n",
    "    inds = select_stars(tab, l0, b0)\n",
    "    stars = tab[inds]\n",
    "    DIBs = res_array[inds, :]\n",
    "    ERRs = res_err_array[inds, :]\n",
    "    eqws = eqw[inds]\n",
    "    eqw_int = eqw_interp[inds]\n",
    "    ext = verg_reddening[inds]\n",
    "\n",
    "    fig, axs= plt.subplots(nrows = 1, ncols = 3, figsize = (15,6))\n",
    "    for i in range(len(inds)):\n",
    "        axs[0].plot(wavs_window, DIBs[i,:], linewidth = 1)\n",
    "        axs[1].scatter(ext[i], eqws[i], c= 'C{}'.format(i))\n",
    "        axs[1].scatter(ext[i], eqw_int[i], c='C{}'.format(i), marker = '^')\n",
    "    # axs[1].scatter(stars['AV50'], eqws)\n",
    "\n",
    "    axs[2].imshow(np.sum(vergely, axis = 2) * 5, origin = 'lower', cmap = 'binary', extent = extent)\n",
    "    axs[2].scatter(l0, b0)\n",
    "    plt.show()\n",
    "plots(CA_meta, l0, b0)\n",
    "plots(CA_meta, l0+1, b0)\n",
    "plots(CA_meta, l0, b0+1)\n",
    "plots(CA_meta, l0+3, b0)\n",
    "plots(CA_meta, l0, b0+3)"
   ]
  },
  {
   "cell_type": "code",
   "execution_count": null,
   "metadata": {},
   "outputs": [],
   "source": [
    "CA_meta['AV50']"
   ]
  }
 ],
 "metadata": {
  "kernelspec": {
   "display_name": "Python 3",
   "language": "python",
   "name": "python3"
  },
  "language_info": {
   "codemirror_mode": {
    "name": "ipython",
    "version": 3
   },
   "file_extension": ".py",
   "mimetype": "text/x-python",
   "name": "python",
   "nbconvert_exporter": "python",
   "pygments_lexer": "ipython3",
   "version": "3.10.3"
  },
  "orig_nbformat": 4
 },
 "nbformat": 4,
 "nbformat_minor": 2
}
